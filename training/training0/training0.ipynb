{
 "cells": [
  {
   "cell_type": "code",
   "execution_count": 2,
   "metadata": {},
   "outputs": [],
   "source": [
    "%matplotlib inline\n",
    "import matplotlib.pyplot as plt\n",
    "\n",
    "import numpy as np\n",
    "from blimpy import read_header, Waterfall, Filterbank\n",
    "\n",
    "import sys, os, glob, errno\n",
    "\n",
    "sys.path.append(\"../../../setigen/\")\n",
    "import setigen as stg\n",
    "import generate0\n",
    "\n",
    "tsamp = 1.4316557653333333\n",
    "fch1 = 3751.464843051508\n",
    "df = -1.3969838619232178e-06\n",
    "\n",
    "fchans = 1024\n",
    "tchans = 32\n",
    "fs = np.arange(fch1, fch1 + fchans*df, df)\n",
    "ts = np.arange(0, tchans*tsamp, tsamp)"
   ]
  },
  {
   "cell_type": "code",
   "execution_count": 7,
   "metadata": {},
   "outputs": [
    {
     "name": "stdout",
     "output_type": "stream",
     "text": [
      "Found 20000 images belonging to 4 classes.\n",
      "Found 2000 images belonging to 4 classes.\n",
      "Epoch 1/50\n",
      "312/312 [==============================] - 370s 1s/step - loss: 0.6177 - acc: 0.7306 - val_loss: 0.3528 - val_acc: 0.8841\n",
      "Epoch 2/50\n",
      "312/312 [==============================] - 200s 642ms/step - loss: 0.3344 - acc: 0.8858 - val_loss: 0.2594 - val_acc: 0.9083\n",
      "Epoch 3/50\n",
      "312/312 [==============================] - 178s 570ms/step - loss: 0.2623 - acc: 0.9192 - val_loss: 0.2867 - val_acc: 0.8906\n",
      "Epoch 4/50\n",
      "312/312 [==============================] - 175s 560ms/step - loss: 0.2388 - acc: 0.9307 - val_loss: 0.1739 - val_acc: 0.9304\n",
      "Epoch 5/50\n",
      "312/312 [==============================] - 161s 516ms/step - loss: 0.1992 - acc: 0.9366 - val_loss: 0.1009 - val_acc: 0.9672\n",
      "Epoch 6/50\n",
      "312/312 [==============================] - 161s 516ms/step - loss: 0.1777 - acc: 0.9419 - val_loss: 0.0879 - val_acc: 0.9688\n",
      "Epoch 7/50\n",
      "312/312 [==============================] - 160s 512ms/step - loss: 0.1678 - acc: 0.9492 - val_loss: 0.0779 - val_acc: 0.9682\n",
      "Epoch 8/50\n",
      "312/312 [==============================] - 157s 505ms/step - loss: 0.1532 - acc: 0.9525 - val_loss: 0.1141 - val_acc: 0.9682\n",
      "\n",
      "Epoch 00008: ReduceLROnPlateau reducing learning rate to 0.0005000000237487257.\n",
      "Epoch 9/50\n",
      "312/312 [==============================] - 159s 509ms/step - loss: 0.1029 - acc: 0.9676 - val_loss: 0.0648 - val_acc: 0.9793\n",
      "Epoch 10/50\n",
      "312/312 [==============================] - 160s 511ms/step - loss: 0.0941 - acc: 0.9676 - val_loss: 0.0390 - val_acc: 0.9899\n",
      "Epoch 11/50\n",
      "312/312 [==============================] - 158s 505ms/step - loss: 0.1021 - acc: 0.9669 - val_loss: 0.0798 - val_acc: 0.9667\n",
      "Epoch 12/50\n",
      "312/312 [==============================] - 159s 509ms/step - loss: 0.0898 - acc: 0.9704 - val_loss: 0.1008 - val_acc: 0.9647\n",
      "\n",
      "Epoch 00012: ReduceLROnPlateau reducing learning rate to 0.0002500000118743628.\n",
      "Epoch 13/50\n",
      "312/312 [==============================] - 158s 506ms/step - loss: 0.0709 - acc: 0.9767 - val_loss: 0.0907 - val_acc: 0.9582\n",
      "Epoch 14/50\n",
      "312/312 [==============================] - 160s 514ms/step - loss: 0.0694 - acc: 0.9763 - val_loss: 0.0542 - val_acc: 0.9768\n",
      "\n",
      "Epoch 00014: ReduceLROnPlateau reducing learning rate to 0.0001250000059371814.\n",
      "Epoch 15/50\n",
      "312/312 [==============================] - 159s 511ms/step - loss: 0.0683 - acc: 0.9776 - val_loss: 0.1606 - val_acc: 0.9471\n",
      "Epoch 16/50\n",
      "312/312 [==============================] - 158s 506ms/step - loss: 0.0624 - acc: 0.9786 - val_loss: 0.1332 - val_acc: 0.9430\n",
      "\n",
      "Epoch 00016: ReduceLROnPlateau reducing learning rate to 6.25000029685907e-05.\n",
      "Epoch 17/50\n",
      "312/312 [==============================] - 158s 506ms/step - loss: 0.0578 - acc: 0.9790 - val_loss: 0.0675 - val_acc: 0.9763\n",
      "Epoch 18/50\n",
      "312/312 [==============================] - 158s 508ms/step - loss: 0.0589 - acc: 0.9806 - val_loss: 0.0825 - val_acc: 0.9783\n",
      "\n",
      "Epoch 00018: ReduceLROnPlateau reducing learning rate to 3.125000148429535e-05.\n",
      "Epoch 19/50\n",
      "312/312 [==============================] - 157s 505ms/step - loss: 0.0559 - acc: 0.9797 - val_loss: 0.0922 - val_acc: 0.9642\n",
      "Epoch 20/50\n",
      "312/312 [==============================] - 158s 506ms/step - loss: 0.0555 - acc: 0.9803 - val_loss: 0.1086 - val_acc: 0.9572\n",
      "\n",
      "Epoch 00020: ReduceLROnPlateau reducing learning rate to 1.5625000742147677e-05.\n",
      "Saved model! Took 00h 57m 46.52s\n"
     ]
    }
   ],
   "source": [
    "# basic cnn training: 1\n",
    "from keras.preprocessing.image import ImageDataGenerator\n",
    "from keras.models import Sequential\n",
    "from keras.layers import Conv2D, MaxPooling2D\n",
    "from keras.layers import Activation, Dropout, Flatten, Dense\n",
    "from keras import backend as K\n",
    "import tensorflow as tf\n",
    "\n",
    "import time\n",
    "# config = tf.ConfigProto()\n",
    "# config.gpu_options.per_process_gpu_memory_fraction = 0.2\n",
    "# session = tf.Session(config=config)\n",
    "\n",
    "def format_time(total):\n",
    "    h = int(np.floor(total / 3600.))\n",
    "    m = int(np.floor((total - 3600. * h) / 60.))\n",
    "    s = (total - 3600. * h - 60. * m)\n",
    "    return '%02dh %02dm %02.2fs' % (h, m, s)\n",
    "\n",
    "start = time.time()\n",
    "# dimensions of our images.\n",
    "img_width, img_height = 32, 1024\n",
    "\n",
    "model_version = '0'\n",
    "training_set = '0'\n",
    "\n",
    "prefix = '/datax/scratch/bbrzycki/training/training%s' % training_set\n",
    "\n",
    "# Make directory to store different models\n",
    "model_dir = '%s/models/' % (prefix)\n",
    "try:\n",
    "    os.makedirs(model_dir)\n",
    "except OSError as e:\n",
    "    if e.errno != errno.EEXIST:\n",
    "        raise\n",
    "\n",
    "train_data_dir = '%s/train/' % (prefix)\n",
    "validation_data_dir = '%s/validation/' % (prefix)\n",
    "nb_train_samples = 5000 * 4\n",
    "nb_validation_samples = 500 * 4\n",
    "epochs = 50\n",
    "batch_size = 64\n",
    "\n",
    "if K.image_data_format() == 'channels_first':\n",
    "    input_shape = (3, img_width, img_height)\n",
    "else:\n",
    "    input_shape = (img_width, img_height, 3)\n",
    "\n",
    "model = Sequential()\n",
    "model.add(Conv2D(32, (3, 3), input_shape=input_shape))\n",
    "model.add(Activation('relu'))\n",
    "model.add(MaxPooling2D(pool_size=(2, 2)))\n",
    "\n",
    "model.add(Conv2D(32, (3, 3)))\n",
    "model.add(Activation('relu'))\n",
    "model.add(MaxPooling2D(pool_size=(2, 2)))\n",
    "\n",
    "model.add(Conv2D(64, (3, 3)))\n",
    "model.add(Activation('relu'))\n",
    "model.add(MaxPooling2D(pool_size=(2, 2)))\n",
    "\n",
    "model.add(Flatten())\n",
    "model.add(Dense(64))\n",
    "model.add(Activation('relu'))\n",
    "model.add(Dropout(0.5))\n",
    "model.add(Dense(4, activation='softmax'))\n",
    "\n",
    "model.compile(loss='sparse_categorical_crossentropy',\n",
    "              optimizer='rmsprop',\n",
    "              metrics=['accuracy'])\n",
    "\n",
    "from keras.callbacks import EarlyStopping, ReduceLROnPlateau\n",
    "\n",
    "earlystop = EarlyStopping(patience=10)\n",
    "learning_rate_reduction = ReduceLROnPlateau(monitor='val_acc', \n",
    "                                            patience=2, \n",
    "                                            verbose=1, \n",
    "                                            factor=0.5, \n",
    "                                            min_lr=0.00001)\n",
    "\n",
    "callbacks = [earlystop, learning_rate_reduction]\n",
    "\n",
    "# this is the augmentation configuration we will use for training\n",
    "train_datagen = ImageDataGenerator(\n",
    "    rescale=1. / 255,\n",
    "    shear_range=0.2,\n",
    "    zoom_range=0.2,\n",
    "    horizontal_flip=True)\n",
    "\n",
    "# this is the augmentation configuration we will use for testing:\n",
    "# only rescaling\n",
    "test_datagen = ImageDataGenerator(rescale=1. / 255)\n",
    "\n",
    "train_generator = train_datagen.flow_from_directory(\n",
    "    train_data_dir,\n",
    "    target_size=(img_width, img_height),\n",
    "    batch_size=batch_size,\n",
    "    class_mode='sparse')\n",
    "\n",
    "validation_generator = test_datagen.flow_from_directory(\n",
    "    validation_data_dir,\n",
    "    target_size=(img_width, img_height),\n",
    "    batch_size=batch_size,\n",
    "    class_mode='sparse')\n",
    "\n",
    "model.fit_generator(\n",
    "    train_generator,\n",
    "    steps_per_epoch=nb_train_samples // batch_size,\n",
    "    epochs=epochs,\n",
    "    validation_data=validation_generator,\n",
    "    validation_steps=nb_validation_samples // batch_size,\n",
    "    callbacks=callbacks)\n",
    "\n",
    "model.save_weights(model_dir + '%s_%s.h5' % ('model', model_version))\n",
    "\n",
    "end = time.time()\n",
    "print('Saved model! Took %s' % format_time(end - start))\n",
    "\n"
   ]
  },
  {
   "cell_type": "code",
   "execution_count": 8,
   "metadata": {},
   "outputs": [],
   "source": [
    "# model.load_weights(model_dir + '%s_%s.h5' % ('model', model_version))\n",
    "\n"
   ]
  },
  {
   "cell_type": "code",
   "execution_count": 10,
   "metadata": {},
   "outputs": [
    {
     "data": {
      "text/plain": [
       "(array([[0., 0., 0., ..., 0., 0., 0.],\n",
       "        [0., 0., 0., ..., 0., 0., 0.],\n",
       "        [0., 0., 0., ..., 0., 0., 0.],\n",
       "        ...,\n",
       "        [0., 0., 0., ..., 0., 0., 0.],\n",
       "        [0., 0., 0., ..., 0., 0., 0.],\n",
       "        [0., 0., 0., ..., 0., 0., 0.]]),\n",
       " [35, -1.9684570775510972e-05, 8.000000000000001e-06, 10, 0])"
      ]
     },
     "execution_count": 10,
     "metadata": {},
     "output_type": "execute_result"
    }
   ],
   "source": [
    "generate0.generate_training0_signal('noise')"
   ]
  },
  {
   "cell_type": "code",
   "execution_count": 31,
   "metadata": {},
   "outputs": [],
   "source": [
    "from keras.preprocessing.image import img_to_array, load_img"
   ]
  },
  {
   "cell_type": "code",
   "execution_count": 49,
   "metadata": {},
   "outputs": [
    {
     "data": {
      "text/plain": [
       "array([[9.9851245e-01, 3.1587676e-26, 1.4874294e-03, 6.6244844e-08]],\n",
       "      dtype=float32)"
      ]
     },
     "execution_count": 49,
     "metadata": {},
     "output_type": "execute_result"
    },
    {
     "data": {
      "image/png": "[encoded data removed]",
      "text/plain": [
       "<Figure size 432x288 with 1 Axes>"
      ]
     },
     "metadata": {},
     "output_type": "display_data"
    }
   ],
   "source": [
    "label='constant'\n",
    "signal, [start_index, drift_rate, line_width, level, spread] = generate0.generate_training0_signal(label=label)\n",
    "normalized_signal = stg.normalize(stg.inject_noise(signal), cols = 128, exclude = 0.2, use_median=False)\n",
    "plt.imshow(normalized_signal, aspect='auto')\n",
    "plt.imsave('temp.png', normalized_signal)\n",
    "\n",
    "img = load_img('temp.png', False, target_size=(32,1024))\n",
    "x = img_to_array(img)\n",
    "x = x / 255.\n",
    "x = np.expand_dims(x, axis=0)\n",
    "model.predict_proba(x)"
   ]
  },
  {
   "cell_type": "code",
   "execution_count": 65,
   "metadata": {},
   "outputs": [
    {
     "name": "stdout",
     "output_type": "stream",
     "text": [
      "Found 2000 images belonging to 4 classes.\n",
      "              precision    recall  f1-score   support\n",
      "\n",
      "    constant       0.98      0.87      0.92       500\n",
      "       noise       1.00      1.00      1.00       500\n",
      "scintillated       1.00      0.96      0.98       500\n",
      "  simple_rfi       0.87      1.00      0.93       500\n",
      "\n",
      "   micro avg       0.96      0.96      0.96      2000\n",
      "   macro avg       0.96      0.96      0.96      2000\n",
      "weighted avg       0.96      0.96      0.96      2000\n",
      "\n"
     ]
    }
   ],
   "source": [
    "import sklearn.metrics as metrics\n",
    "\n",
    "test_data_generator = test_datagen.flow_from_directory(\n",
    "    validation_data_dir,\n",
    "    target_size=(img_width, img_height),\n",
    "    batch_size=batch_size,\n",
    "    class_mode='sparse',\n",
    "    shuffle=False)\n",
    "test_steps_per_epoch = np.math.ceil(test_data_generator.samples / test_data_generator.batch_size)\n",
    "\n",
    "predictions = model.predict_generator(test_data_generator, steps=test_steps_per_epoch)\n",
    "# Get most likely class\n",
    "predicted_classes = np.argmax(predictions, axis=1)\n",
    "\n",
    "true_classes = test_data_generator.classes\n",
    "class_labels = list(test_data_generator.class_indices.keys())   \n",
    "\n",
    "report = metrics.classification_report(true_classes, predicted_classes, target_names=class_labels)\n",
    "print(report)    "
   ]
  },
  {
   "cell_type": "code",
   "execution_count": 66,
   "metadata": {},
   "outputs": [
    {
     "data": {
      "text/plain": [
       "array([[434,   0,   1,  65],\n",
       "       [  0, 499,   0,   1],\n",
       "       [  7,   0, 481,  12],\n",
       "       [  0,   0,   0, 500]])"
      ]
     },
     "execution_count": 66,
     "metadata": {},
     "output_type": "execute_result"
    }
   ],
   "source": [
    "from sklearn.metrics import confusion_matrix\n",
    "confusion_matrix(true_classes, predicted_classes)"
   ]
  },
  {
   "cell_type": "code",
   "execution_count": 67,
   "metadata": {},
   "outputs": [
    {
     "data": {
      "text/plain": [
       "(2000, 4)"
      ]
     },
     "execution_count": 67,
     "metadata": {},
     "output_type": "execute_result"
    }
   ],
   "source": [
    "predictions.shape"
   ]
  },
  {
   "cell_type": "code",
   "execution_count": 68,
   "metadata": {},
   "outputs": [
    {
     "data": {
      "text/plain": [
       "32"
      ]
     },
     "execution_count": 68,
     "metadata": {},
     "output_type": "execute_result"
    }
   ],
   "source": [
    "test_steps_per_epoch"
   ]
  },
  {
   "cell_type": "code",
   "execution_count": 69,
   "metadata": {},
   "outputs": [
    {
     "name": "stdout",
     "output_type": "stream",
     "text": [
      "Confusion matrix, without normalization\n",
      "[[434   0   1  65]\n",
      " [  0 499   0   1]\n",
      " [  7   0 481  12]\n",
      " [  0   0   0 500]]\n",
      "Normalized confusion matrix\n",
      "[[0.87 0.   0.   0.13]\n",
      " [0.   1.   0.   0.  ]\n",
      " [0.01 0.   0.96 0.02]\n",
      " [0.   0.   0.   1.  ]]\n"
     ]
    },
    {
     "data": {
      "image/png": "[encoded data removed]",
      "text/plain": [
       "<Figure size 432x288 with 2 Axes>"
      ]
     },
     "metadata": {},
     "output_type": "display_data"
    },
    {
     "data": {
      "image/png": "[encoded data removed]",
      "text/plain": [
       "<Figure size 432x288 with 2 Axes>"
      ]
     },
     "metadata": {},
     "output_type": "display_data"
    }
   ],
   "source": [
    "import itertools\n",
    "import numpy as np\n",
    "import matplotlib.pyplot as plt\n",
    "\n",
    "from sklearn import svm, datasets\n",
    "from sklearn.model_selection import train_test_split\n",
    "from sklearn.metrics import confusion_matrix\n",
    "\n",
    "def plot_confusion_matrix(cm, classes,\n",
    "                          normalize=False,\n",
    "                          title='Confusion matrix',\n",
    "                          cmap=plt.cm.Blues):\n",
    "    \"\"\"\n",
    "    This function prints and plots the confusion matrix.\n",
    "    Normalization can be applied by setting `normalize=True`.\n",
    "    \"\"\"\n",
    "    if normalize:\n",
    "        cm = cm.astype('float') / cm.sum(axis=1)[:, np.newaxis]\n",
    "        print(\"Normalized confusion matrix\")\n",
    "    else:\n",
    "        print('Confusion matrix, without normalization')\n",
    "\n",
    "    print(cm)\n",
    "\n",
    "    plt.imshow(cm, interpolation='nearest', cmap=cmap)\n",
    "    plt.title(title)\n",
    "    plt.colorbar()\n",
    "    tick_marks = np.arange(len(classes))\n",
    "    plt.xticks(tick_marks, classes, rotation=45)\n",
    "    plt.yticks(tick_marks, classes)\n",
    "\n",
    "    fmt = '.2f' if normalize else 'd'\n",
    "    thresh = cm.max() / 2.\n",
    "    for i, j in itertools.product(range(cm.shape[0]), range(cm.shape[1])):\n",
    "        plt.text(j, i, format(cm[i, j], fmt),\n",
    "                 horizontalalignment=\"center\",\n",
    "                 color=\"white\" if cm[i, j] > thresh else \"black\")\n",
    "\n",
    "    plt.ylabel('True label')\n",
    "    plt.xlabel('Predicted label')\n",
    "    plt.tight_layout()\n",
    "\n",
    "\n",
    "# Compute confusion matrix\n",
    "cnf_matrix = confusion_matrix(true_classes, predicted_classes)\n",
    "np.set_printoptions(precision=2)\n",
    "\n",
    "# Plot non-normalized confusion matrix\n",
    "plt.figure()\n",
    "plot_confusion_matrix(cnf_matrix, classes=class_labels,\n",
    "                      title='Confusion matrix, without normalization')\n",
    "\n",
    "# Plot normalized confusion matrix\n",
    "plt.figure()\n",
    "plot_confusion_matrix(cnf_matrix, classes=class_labels, normalize=True,\n",
    "                      title='Normalized confusion matrix')\n",
    "\n",
    "plt.show()"
   ]
  },
  {
   "cell_type": "code",
   "execution_count": null,
   "metadata": {},
   "outputs": [],
   "source": []
  }
 ],
 "metadata": {
  "kernelspec": {
   "display_name": "Python 3",
   "language": "python",
   "name": "python3"
  },
  "language_info": {
   "codemirror_mode": {
    "name": "ipython",
    "version": 3
   },
   "file_extension": ".py",
   "mimetype": "text/x-python",
   "name": "python",
   "nbconvert_exporter": "python",
   "pygments_lexer": "ipython3",
   "version": "3.6.8"
  }
 },
 "nbformat": 4,
 "nbformat_minor": 2
}
