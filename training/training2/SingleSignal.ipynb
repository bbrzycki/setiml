{
 "cells": [
  {
   "cell_type": "markdown",
   "metadata": {},
   "source": [
    "# Training Models"
   ]
  },
  {
   "cell_type": "markdown",
   "metadata": {},
   "source": [
    "### Setup Data"
   ]
  },
  {
   "cell_type": "code",
   "execution_count": 1,
   "metadata": {},
   "outputs": [
    {
     "name": "stderr",
     "output_type": "stream",
     "text": [
      "Using TensorFlow backend.\n"
     ]
    }
   ],
   "source": [
    "# basic cnn training\n",
    "from keras.preprocessing.image import ImageDataGenerator\n",
    "from keras.models import Sequential\n",
    "from keras.layers import Conv2D, MaxPooling2D\n",
    "from keras.layers import Activation, Dropout, Flatten, Dense\n",
    "from keras import backend as K\n",
    "from keras.utils import multi_gpu_model, to_categorical\n",
    "\n",
    "import keras\n",
    "import tensorflow as tf\n",
    "\n",
    "import numpy as np\n",
    "import os, sys, errno\n",
    "\n",
    "import csv\n",
    "import codecs\n",
    "import pickle\n",
    "import h5py\n",
    "\n",
    "import sys, os, glob\n",
    "sys.path.append(\"/home/bryanb/cuckoo-cli/\")\n",
    "import cuckoo_cl\n",
    "\n",
    "class DataGenerator(keras.utils.Sequence):\n",
    "    'Generates data for Keras'\n",
    "    def __init__(self, list_IDs, labels, num_labels=1, batch_size=32, dim=(32,1024), n_channels=1, n_classes=10, shuffle=True):\n",
    "        'Initialization'\n",
    "        self.dim = dim\n",
    "        self.batch_size = batch_size\n",
    "        self.labels = labels\n",
    "        self.num_labels = num_labels\n",
    "        self.list_IDs = list_IDs\n",
    "        self.n_channels = n_channels\n",
    "        self.n_classes = n_classes\n",
    "        self.shuffle = shuffle\n",
    "        self.on_epoch_end()\n",
    "\n",
    "    def __len__(self):\n",
    "        'Denotes the number of batches per epoch'\n",
    "        return int(np.floor(len(self.list_IDs) / self.batch_size))\n",
    "\n",
    "    def __getitem__(self, index):\n",
    "        'Generate one batch of data'\n",
    "        # Generate indexes of the batch\n",
    "        indexes = self.indexes[index*self.batch_size:(index+1)*self.batch_size]\n",
    "\n",
    "        # Find list of IDs\n",
    "        list_IDs_temp = [self.list_IDs[k] for k in indexes]\n",
    "\n",
    "        # Generate data\n",
    "        X, y = self.__data_generation(list_IDs_temp)\n",
    "\n",
    "        return X, y\n",
    "\n",
    "    def on_epoch_end(self):\n",
    "        'Updates indexes after each epoch'\n",
    "        self.indexes = np.arange(len(self.list_IDs))\n",
    "        if self.shuffle == True:\n",
    "            np.random.shuffle(self.indexes)\n",
    "\n",
    "    def __data_generation(self, list_IDs_temp):\n",
    "        'Generates data containing batch_size samples' # X : (n_samples, *dim, n_channels)\n",
    "        # Initialization\n",
    "        X = np.empty((self.batch_size, *self.dim, self.n_channels))\n",
    "        y = np.empty((self.batch_size, self.num_labels))\n",
    "\n",
    "        # Generate data\n",
    "        for i, ID in enumerate(list_IDs_temp):\n",
    "            # Store sample\n",
    "            filename = '/datax/scratch/bbrzycki/training/training2/data/1sig/train/%s.npy' % ID\n",
    "            X[i] = np.load(filename).reshape((*self.dim, self.n_channels))\n",
    "            \n",
    "            X[i] -= np.mean(X[i])\n",
    "            X[i] /= np.std(X[i])\n",
    "\n",
    "            # Store class\n",
    "            y[i] = self.labels[ID]\n",
    "#         y = to_categorical(y)\n",
    "\n",
    "        return X, y\n",
    "\n",
    "# dimensions of our images.\n",
    "img_width, img_height = 32, 1024\n",
    "                                                                 \n",
    "tsamp = 1.4316557653333333\n",
    "\n",
    "dir_name = '/datax/scratch/bbrzycki/training/training2/'\n",
    "h5_datasets = '/datax/scratch/bbrzycki/training/training2/data/1sig/1sig.hdf5'\n",
    "# validation_csv_fn = dir_name + 'train/validation_labels.csv'\n",
    "\n",
    "batch_size = 64\n",
    "\n",
    "# Parameters\n",
    "params = {'dim': (32, 1024),\n",
    "          'batch_size': batch_size,\n",
    "          'n_channels': 1,\n",
    "          'num_labels': 2,\n",
    "          'shuffle': True}"
   ]
  },
  {
   "cell_type": "code",
   "execution_count": 29,
   "metadata": {},
   "outputs": [
    {
     "name": "stdout",
     "output_type": "stream",
     "text": [
      "120000\n"
     ]
    }
   ],
   "source": [
    "# Datasets\n",
    "partition = {'train' : [], 'validation' : []}\n",
    "labels = {}\n",
    "\n",
    "total_image_num = 120000\n",
    "print(total_image_num)\n",
    "train_num = int(total_image_num * 0.8)\n",
    "validation_num = total_image_num - train_num\n",
    "\n",
    "# max_drift = 31.225e-6\n",
    "dbs = []\n",
    "ids = []\n",
    "save_labels = []\n",
    "with h5py.File(h5_datasets, 'r') as f:\n",
    "    \n",
    "    # for 1 signal and 0 rfi\n",
    "    for i in range(total_image_num):\n",
    "        ID = '%06d' % i\n",
    "        \n",
    "        class_nums = f['train'][ID].attrs['class_nums']\n",
    "        sig_db = f['train'][ID].attrs['sig_db']\n",
    "        dbs.append(sig_db)\n",
    "        \n",
    "        ids.append(ID)\n",
    "\n",
    "        start_index, end_index, line_width, snr, class_label = np.squeeze(f['train'][ID]['signals_info'])\n",
    "        # All between 0 and 1\n",
    "        label = (start_index / 1024, end_index / 1024)\n",
    "        labels[ID] = label\n",
    "        save_labels.append(label)\n",
    "\n",
    "\n",
    "\n",
    "partition['train'] = ids[:train_num]\n",
    "partition['validation'] = ids[train_num:]\n",
    " \n",
    "# labels = {key: (value / max_drift) for (key, value) in labels.items()}\n",
    "\n",
    "# Generators\n",
    "training_generator = DataGenerator(partition['train'], labels, **params)\n",
    "validation_generator = DataGenerator(partition['validation'], labels, **params)"
   ]
  },
  {
   "cell_type": "code",
   "execution_count": 36,
   "metadata": {},
   "outputs": [],
   "source": [
    "save_labels = [val for (key, val) in labels.items()]"
   ]
  },
  {
   "cell_type": "code",
   "execution_count": null,
   "metadata": {},
   "outputs": [],
   "source": [
    "np.save('/datax/scratch/bbrzycki/training/training2/data/1sig/dbs.npy', dbs)\n",
    "np.save('/datax/scratch/bbrzycki/training/training2/data/1sig/labels.npy', save_labels)"
   ]
  },
  {
   "cell_type": "markdown",
   "metadata": {},
   "source": [
    "Load"
   ]
  },
  {
   "cell_type": "code",
   "execution_count": 4,
   "metadata": {},
   "outputs": [
    {
     "name": "stdout",
     "output_type": "stream",
     "text": [
      "120000\n"
     ]
    }
   ],
   "source": [
    "total_image_num = 120000\n",
    "print(total_image_num)\n",
    "train_num = int(total_image_num * 0.8)\n",
    "validation_num = total_image_num - train_num\n",
    "\n",
    "ids = ['%06d' % i for i in range(total_image_num)]\n",
    "dbs = np.load('/datax/scratch/bbrzycki/training/training2/data/1sig/dbs.npy')\n",
    "save_labels = np.load('/datax/scratch/bbrzycki/training/training2/data/1sig/labels.npy')\n",
    "labels = {('%06d' % i): save_labels[i] for i in range(total_image_num)}\n",
    "\n",
    "# Generators\n",
    "partition = {'train' : [], 'validation' : []}\n",
    "partition['train'] = ids[:train_num]\n",
    "partition['validation'] = ids[train_num:]"
   ]
  },
  {
   "cell_type": "code",
   "execution_count": 5,
   "metadata": {},
   "outputs": [],
   "source": [
    "batch_size = 64\n",
    "\n",
    "# Parameters\n",
    "params = {'dim': (32, 1024),\n",
    "          'batch_size': batch_size,\n",
    "          'n_channels': 1,\n",
    "          'num_labels': 2,\n",
    "          'shuffle': True}\n",
    "\n",
    "# Generators\n",
    "training_generator = DataGenerator(partition['train'], labels, **params)\n",
    "validation_generator = DataGenerator(partition['validation'], labels, **params)"
   ]
  },
  {
   "cell_type": "code",
   "execution_count": 6,
   "metadata": {},
   "outputs": [
    {
     "name": "stdout",
     "output_type": "stream",
     "text": [
      "_________________________________________________________________\n",
      "Layer (type)                 Output Shape              Param #   \n",
      "=================================================================\n",
      "conv2d_1 (Conv2D)            (None, 30, 1022, 32)      320       \n",
      "_________________________________________________________________\n",
      "activation_1 (Activation)    (None, 30, 1022, 32)      0         \n",
      "_________________________________________________________________\n",
      "conv2d_2 (Conv2D)            (None, 28, 1020, 32)      9248      \n",
      "_________________________________________________________________\n",
      "activation_2 (Activation)    (None, 28, 1020, 32)      0         \n",
      "_________________________________________________________________\n",
      "max_pooling2d_1 (MaxPooling2 (None, 14, 510, 32)       0         \n",
      "_________________________________________________________________\n",
      "conv2d_3 (Conv2D)            (None, 12, 508, 32)       9248      \n",
      "_________________________________________________________________\n",
      "activation_3 (Activation)    (None, 12, 508, 32)       0         \n",
      "_________________________________________________________________\n",
      "max_pooling2d_2 (MaxPooling2 (None, 6, 254, 32)        0         \n",
      "_________________________________________________________________\n",
      "conv2d_4 (Conv2D)            (None, 4, 252, 64)        18496     \n",
      "_________________________________________________________________\n",
      "activation_4 (Activation)    (None, 4, 252, 64)        0         \n",
      "_________________________________________________________________\n",
      "max_pooling2d_3 (MaxPooling2 (None, 2, 126, 64)        0         \n",
      "_________________________________________________________________\n",
      "flatten_1 (Flatten)          (None, 16128)             0         \n",
      "_________________________________________________________________\n",
      "dense_1 (Dense)              (None, 64)                1032256   \n",
      "_________________________________________________________________\n",
      "activation_5 (Activation)    (None, 64)                0         \n",
      "_________________________________________________________________\n",
      "dense_2 (Dense)              (None, 64)                4160      \n",
      "_________________________________________________________________\n",
      "activation_6 (Activation)    (None, 64)                0         \n",
      "_________________________________________________________________\n",
      "dropout_1 (Dropout)          (None, 64)                0         \n",
      "_________________________________________________________________\n",
      "dense_3 (Dense)              (None, 2)                 130       \n",
      "=================================================================\n",
      "Total params: 1,073,858\n",
      "Trainable params: 1,073,858\n",
      "Non-trainable params: 0\n",
      "_________________________________________________________________\n"
     ]
    }
   ],
   "source": [
    "# keras.backend.clear_session()\n",
    "\n",
    "# Design model\n",
    "model = Sequential()\n",
    "model.add(Conv2D(32, (3, 3), input_shape=(32, 1024, 1)))\n",
    "model.add(Activation('relu'))\n",
    "\n",
    "model.add(Conv2D(32, (3, 3)))\n",
    "model.add(Activation('relu'))\n",
    "model.add(MaxPooling2D(pool_size=(2, 2)))\n",
    "\n",
    "model.add(Conv2D(32, (3, 3)))\n",
    "model.add(Activation('relu'))\n",
    "model.add(MaxPooling2D(pool_size=(2, 2)))\n",
    "\n",
    "model.add(Conv2D(64, (3, 3)))\n",
    "model.add(Activation('relu'))\n",
    "model.add(MaxPooling2D(pool_size=(2, 2)))\n",
    "\n",
    "model.add(Flatten())\n",
    "model.add(Dense(64))\n",
    "model.add(Activation('relu'))\n",
    "\n",
    "model.add(Dense(64))\n",
    "model.add(Activation('relu'))\n",
    "model.add(Dropout(0.5))\n",
    "model.add(Dense(2, activation='linear'))\n",
    "\n",
    "model.compile(loss='mean_squared_error',\n",
    "              optimizer='adam',\n",
    "              metrics=['accuracy'])\n",
    "\n",
    "model.summary()"
   ]
  },
  {
   "cell_type": "code",
   "execution_count": null,
   "metadata": {},
   "outputs": [],
   "source": [
    "model_fn = dir_name + 'models/1sig/simple_cnn.h5'\n",
    "history_fn = dir_name + 'models/1sig/simple_cnn_history'\n",
    "\n",
    "epochs = 20\n",
    "\n",
    "history = model.fit_generator(generator=training_generator,\n",
    "                    steps_per_epoch=train_num // batch_size,\n",
    "                    epochs=epochs,\n",
    "                    validation_data=validation_generator,\n",
    "                    validation_steps=validation_num // batch_size,\n",
    "                    callbacks=[keras.callbacks.ModelCheckpoint(model_fn, monitor='loss', verbose=0, save_best_only=True, mode='auto'), \n",
    "                               keras.callbacks.ReduceLROnPlateau(monitor='loss', factor=0.5, patience=5, min_lr=0.0001), \n",
    "                               keras.callbacks.EarlyStopping(monitor='loss', patience=5,verbose=0, mode='auto')])\n",
    "\n",
    "model.save_weights(model_fn)\n",
    "with open(history_fn, 'wb') as f:\n",
    "    pickle.dump(history.history, f)\n",
    "\n",
    "# cuckoo_clock.send_email('Training notebook finished!', 'Training in notebook finished')"
   ]
  },
  {
   "cell_type": "code",
   "execution_count": 43,
   "metadata": {},
   "outputs": [
    {
     "data": {
      "image/png": "[encoded data removed]",
      "text/plain": [
       "<Figure size 432x288 with 1 Axes>"
      ]
     },
     "metadata": {},
     "output_type": "display_data"
    }
   ],
   "source": [
    "%matplotlib inline\n",
    "import matplotlib.pyplot as plt\n",
    "\n",
    "# \"Loss\"\n",
    "plt.plot(history.history['loss'])\n",
    "plt.plot(history.history['val_loss'])\n",
    "plt.title('model loss')\n",
    "plt.ylabel('loss')\n",
    "plt.xlabel('epoch')\n",
    "plt.legend(['train', 'validation'])\n",
    "plt.show()"
   ]
  },
  {
   "cell_type": "code",
   "execution_count": 61,
   "metadata": {},
   "outputs": [
    {
     "name": "stdout",
     "output_type": "stream",
     "text": [
      "Signal (db): 20\n",
      "Label: (343.0, 504.0)\n",
      "Prediction: (348.7, 508.4)\n",
      "Sqrt of Error:  7.193618857255543\n"
     ]
    },
    {
     "data": {
      "image/png": "[encoded data removed]",
      "text/plain": [
       "<Figure size 576x432 with 2 Axes>"
      ]
     },
     "metadata": {},
     "output_type": "display_data"
    },
    {
     "data": {
      "image/png": "[encoded data removed]",
      "text/plain": [
       "<Figure size 432x288 with 2 Axes>"
      ]
     },
     "metadata": {},
     "output_type": "display_data"
    }
   ],
   "source": [
    "with h5py.File(h5_datasets, 'r') as f:\n",
    "    split = 4000\n",
    "    index = np.random.randint(0, split * 6)\n",
    "    ID = '%06d' % index\n",
    "        \n",
    "    class_nums = f['test'][ID].attrs['class_nums']\n",
    "    sig_db = f['test'][ID].attrs['sig_db']\n",
    "    print('Signal (db):', sig_db)\n",
    "\n",
    "    \n",
    "    start_index, end_index, line_width, snr, class_label = np.squeeze(f['test'][ID]['signals_info'])\n",
    "    # All between 0 and 1\n",
    "    label = (start_index / 1024, end_index / 1024)\n",
    "    print('Label:', (start_index, end_index))\n",
    "\n",
    "    \n",
    "filename = '/datax/scratch/bbrzycki/training/training2/data/1sig/test/%s.npy' % ID\n",
    "frame = np.load(filename)\n",
    "X = np.copy(frame).reshape((1, 32, 1024, 1))\n",
    "X -= np.mean(X)\n",
    "X /= np.std(X)\n",
    "\n",
    "p_start, p_end = model.predict(X)[0]\n",
    "print('Prediction: (%0.1f, %0.1f)' % (p_start * 1024, p_end * 1024))\n",
    "\n",
    "print('Sqrt of Error (index units): %0.2f' % (1024 * np.sqrt(np.mean((label[0] - p_start)**2 + (label[1] - p_end)**2))))\n",
    "\n",
    "fig = plt.figure(figsize=(8,6))\n",
    "plt.imshow(frame, aspect='auto')\n",
    "plt.plot([p_start * 1024, p_end * 1024], [0, 32], 'w')\n",
    "plt.colorbar()\n",
    "plt.show()\n",
    "\n",
    "plt.imshow(X.reshape(32, 1024), aspect='auto')\n",
    "plt.colorbar()\n",
    "plt.show()\n",
    "\n"
   ]
  },
  {
   "cell_type": "markdown",
   "metadata": {},
   "source": [
    "### Functional Model ResNet"
   ]
  },
  {
   "cell_type": "code",
   "execution_count": 8,
   "metadata": {},
   "outputs": [
    {
     "name": "stdout",
     "output_type": "stream",
     "text": [
      "__________________________________________________________________________________________________\n",
      "Layer (type)                    Output Shape         Param #     Connected to                     \n",
      "==================================================================================================\n",
      "input_1 (InputLayer)            (None, 32, 1024, 1)  0                                            \n",
      "__________________________________________________________________________________________________\n",
      "conv2d_5 (Conv2D)               (None, 32, 1024, 32) 320         input_1[0][0]                    \n",
      "__________________________________________________________________________________________________\n",
      "add_1 (Add)                     (None, 32, 1024, 32) 0           input_1[0][0]                    \n",
      "                                                                 conv2d_5[0][0]                   \n",
      "__________________________________________________________________________________________________\n",
      "conv2d_6 (Conv2D)               (None, 15, 511, 32)  9248        add_1[0][0]                      \n",
      "__________________________________________________________________________________________________\n",
      "conv2d_7 (Conv2D)               (None, 15, 511, 32)  9248        conv2d_6[0][0]                   \n",
      "__________________________________________________________________________________________________\n",
      "add_2 (Add)                     (None, 15, 511, 32)  0           conv2d_6[0][0]                   \n",
      "                                                                 conv2d_7[0][0]                   \n",
      "__________________________________________________________________________________________________\n",
      "conv2d_8 (Conv2D)               (None, 7, 255, 64)   18496       add_2[0][0]                      \n",
      "__________________________________________________________________________________________________\n",
      "conv2d_9 (Conv2D)               (None, 7, 255, 64)   36928       conv2d_8[0][0]                   \n",
      "__________________________________________________________________________________________________\n",
      "add_3 (Add)                     (None, 7, 255, 64)   0           conv2d_8[0][0]                   \n",
      "                                                                 conv2d_9[0][0]                   \n",
      "__________________________________________________________________________________________________\n",
      "conv2d_10 (Conv2D)              (None, 3, 127, 64)   36928       add_3[0][0]                      \n",
      "__________________________________________________________________________________________________\n",
      "flatten_2 (Flatten)             (None, 24384)        0           conv2d_10[0][0]                  \n",
      "__________________________________________________________________________________________________\n",
      "dense_4 (Dense)                 (None, 64)           1560640     flatten_2[0][0]                  \n",
      "__________________________________________________________________________________________________\n",
      "dense_5 (Dense)                 (None, 64)           4160        dense_4[0][0]                    \n",
      "__________________________________________________________________________________________________\n",
      "dropout_2 (Dropout)             (None, 64)           0           dense_5[0][0]                    \n",
      "__________________________________________________________________________________________________\n",
      "dense_6 (Dense)                 (None, 2)            130         dropout_2[0][0]                  \n",
      "==================================================================================================\n",
      "Total params: 1,676,098\n",
      "Trainable params: 1,676,098\n",
      "Non-trainable params: 0\n",
      "__________________________________________________________________________________________________\n"
     ]
    }
   ],
   "source": [
    "from keras.layers import Conv2D, Input, Dense\n",
    "from keras.models import Model\n",
    "\n",
    "def Residual(x, layers=32):\n",
    "    conv = Conv2D(layers, (3, 3), padding='same')(x)\n",
    "    return keras.layers.add([x, conv])\n",
    "\n",
    "inputs = Input(shape=(32, 1024, 1))\n",
    "# 3x3 conv with 3 output channels (same as input channels)\n",
    "r0 = Residual(inputs, 32)\n",
    "strided0 = Conv2D(32, (3, 3), strides=2)(r0)\n",
    "\n",
    "r1 = Residual(strided0, 32)\n",
    "strided1 = Conv2D(64, (3, 3), strides=2)(r1)\n",
    "\n",
    "r2 = Residual(strided1, 64)\n",
    "strided2 = Conv2D(64, (3, 3), strides=2)(r2)\n",
    "\n",
    "# a layer instance is callable on a tensor, and returns a tensor\n",
    "flat = Flatten()(strided2)\n",
    "dense0 = Dense(64, activation='relu')(flat)\n",
    "dense1 = Dense(64, activation='relu')(dense0)\n",
    "drop0 = Dropout(0.5)(dense1)\n",
    "predictions = Dense(2, activation='linear')(drop0)\n",
    "\n",
    "model = Model(inputs=inputs, outputs=predictions)\n",
    "model.compile(loss='mean_squared_error',\n",
    "              optimizer='adam',\n",
    "              metrics=['accuracy'])\n",
    "\n",
    "model.summary()\n",
    "\n",
    "from keras.utils import plot_model\n",
    "plot_model(model, to_file='model.png', show_shapes=True)"
   ]
  },
  {
   "cell_type": "code",
   "execution_count": null,
   "metadata": {},
   "outputs": [],
   "source": [
    "model_fn = dir_name + 'models/1sig/resnet.h5'\n",
    "history_fn = dir_name + 'models/1sig/resnet_history'\n",
    "\n",
    "epochs = 10\n",
    "\n",
    "# Train\n",
    "history = model.fit_generator(generator=training_generator,\n",
    "                    steps_per_epoch=train_num // batch_size,\n",
    "                    epochs=epochs,\n",
    "                    validation_data=validation_generator,\n",
    "                    validation_steps=validation_num // batch_size,\n",
    "                    callbacks=[keras.callbacks.ModelCheckpoint(model_fn, monitor='loss', verbose=0, save_best_only=True, mode='auto'), \n",
    "                               keras.callbacks.ReduceLROnPlateau(monitor='loss', factor=0.5, patience=5, min_lr=0.0001), \n",
    "                               keras.callbacks.EarlyStopping(monitor='loss', patience=10,verbose=0, mode='auto')])\n",
    "\n",
    "model.save_weights(model_fn)\n",
    "with open(history_fn, 'wb') as f:\n",
    "    pickle.dump(history.history, f)\n"
   ]
  },
  {
   "cell_type": "code",
   "execution_count": 75,
   "metadata": {},
   "outputs": [
    {
     "data": {
      "image/png": "[encoded data removed]",
      "text/plain": [
       "<Figure size 432x288 with 1 Axes>"
      ]
     },
     "metadata": {},
     "output_type": "display_data"
    }
   ],
   "source": [
    "%matplotlib inline\n",
    "import matplotlib.pyplot as plt\n",
    "loss = history.history['loss']\n",
    "loss[3] = 0\n",
    "# \"Loss\"\n",
    "plt.plot(loss)\n",
    "plt.plot(history.history['val_loss'])\n",
    "plt.title('model loss')\n",
    "plt.ylabel('loss')\n",
    "plt.xlabel('epoch')\n",
    "plt.legend(['train', 'validation'])\n",
    "plt.show()"
   ]
  },
  {
   "cell_type": "markdown",
   "metadata": {},
   "source": [
    "### Inception"
   ]
  },
  {
   "cell_type": "code",
   "execution_count": 10,
   "metadata": {},
   "outputs": [
    {
     "name": "stdout",
     "output_type": "stream",
     "text": [
      "__________________________________________________________________________________________________\n",
      "Layer (type)                    Output Shape         Param #     Connected to                     \n",
      "==================================================================================================\n",
      "input_2 (InputLayer)            (None, 32, 1024, 1)  0                                            \n",
      "__________________________________________________________________________________________________\n",
      "conv2d_11 (Conv2D)              (None, 32, 1024, 32) 64          input_2[0][0]                    \n",
      "__________________________________________________________________________________________________\n",
      "conv2d_13 (Conv2D)              (None, 32, 1024, 32) 64          input_2[0][0]                    \n",
      "__________________________________________________________________________________________________\n",
      "max_pooling2d_4 (MaxPooling2D)  (None, 32, 1024, 1)  0           input_2[0][0]                    \n",
      "__________________________________________________________________________________________________\n",
      "conv2d_12 (Conv2D)              (None, 32, 1024, 32) 9248        conv2d_11[0][0]                  \n",
      "__________________________________________________________________________________________________\n",
      "conv2d_14 (Conv2D)              (None, 32, 1024, 32) 25632       conv2d_13[0][0]                  \n",
      "__________________________________________________________________________________________________\n",
      "conv2d_15 (Conv2D)              (None, 32, 1024, 32) 64          max_pooling2d_4[0][0]            \n",
      "__________________________________________________________________________________________________\n",
      "concatenate_1 (Concatenate)     (None, 96, 1024, 32) 0           conv2d_12[0][0]                  \n",
      "                                                                 conv2d_14[0][0]                  \n",
      "                                                                 conv2d_15[0][0]                  \n",
      "__________________________________________________________________________________________________\n",
      "conv2d_16 (Conv2D)              (None, 92, 511, 32)  15392       concatenate_1[0][0]              \n",
      "__________________________________________________________________________________________________\n",
      "conv2d_17 (Conv2D)              (None, 45, 255, 32)  9248        conv2d_16[0][0]                  \n",
      "__________________________________________________________________________________________________\n",
      "flatten_3 (Flatten)             (None, 367200)       0           conv2d_17[0][0]                  \n",
      "__________________________________________________________________________________________________\n",
      "dense_7 (Dense)                 (None, 32)           11750432    flatten_3[0][0]                  \n",
      "__________________________________________________________________________________________________\n",
      "dense_8 (Dense)                 (None, 64)           2112        dense_7[0][0]                    \n",
      "__________________________________________________________________________________________________\n",
      "dropout_3 (Dropout)             (None, 64)           0           dense_8[0][0]                    \n",
      "__________________________________________________________________________________________________\n",
      "dense_9 (Dense)                 (None, 2)            130         dropout_3[0][0]                  \n",
      "==================================================================================================\n",
      "Total params: 11,812,386\n",
      "Trainable params: 11,812,386\n",
      "Non-trainable params: 0\n",
      "__________________________________________________________________________________________________\n"
     ]
    }
   ],
   "source": [
    "from keras.layers import Conv2D, MaxPooling2D, Input\n",
    "from keras.layers import Conv2D, Input, Dense\n",
    "from keras.models import Model\n",
    "\n",
    "def Residual(x, layers=32):\n",
    "    conv = Conv2D(layers, (3, 3), padding='same')(x)\n",
    "    return keras.layers.add([x, conv])\n",
    "\n",
    "def Inception(x, layers=64):\n",
    "    tower_1 = Conv2D(layers, (1, 1), padding='same', activation='relu')(x)\n",
    "    tower_1 = Conv2D(layers, (3, 3), padding='same', activation='relu')(tower_1)\n",
    "\n",
    "    tower_2 = Conv2D(layers, (1, 1), padding='same', activation='relu')(x)\n",
    "    tower_2 = Conv2D(layers, (5, 5), padding='same', activation='relu')(tower_2)\n",
    "\n",
    "    tower_3 = MaxPooling2D((3, 3), strides=(1, 1), padding='same')(x)\n",
    "    tower_3 = Conv2D(layers, (1, 1), padding='same', activation='relu')(tower_3)\n",
    "\n",
    "    output = keras.layers.concatenate([tower_1, tower_2, tower_3], axis=1)\n",
    "    return output\n",
    "\n",
    "inputs = Input(shape=(32, 1024, 1))\n",
    "# 3x3 conv with 3 output channels (same as input channels)\n",
    "i0 = Inception(inputs, 32)\n",
    "strided0 = Conv2D(32, (5, 3), strides=(1, 2))(i0)\n",
    "c1 = Conv2D(32, (3, 3), strides=2)(strided0)\n",
    "\n",
    "# r1 = Residual(strided0, 32)\n",
    "# strided1 = Conv2D(64, (3, 3), strides=2)(r1)\n",
    "\n",
    "# r2 = Residual(strided1, 64)\n",
    "# strided2 = Conv2D(64, (3, 3), strides=2)(r2)\n",
    "\n",
    "# a layer instance is callable on a tensor, and returns a tensor\n",
    "flat = Flatten()(c1)\n",
    "dense0 = Dense(32, activation='relu')(flat)\n",
    "dense1 = Dense(64, activation='relu')(dense0)\n",
    "drop0 = Dropout(0.5)(dense1)\n",
    "predictions = Dense(2, activation='linear')(drop0)\n",
    "\n",
    "model = Model(inputs=inputs, outputs=predictions)\n",
    "model.compile(loss='mean_squared_error',\n",
    "              optimizer='adam',\n",
    "              metrics=['accuracy'])\n",
    "\n",
    "model.summary()\n",
    "\n",
    "from keras.utils import plot_model\n",
    "plot_model(model, to_file='inception_model.png', show_shapes=False)"
   ]
  },
  {
   "cell_type": "code",
   "execution_count": null,
   "metadata": {},
   "outputs": [],
   "source": [
    "model_fn = dir_name + 'models/1sig/inception.h5'\n",
    "history_fn = dir_name + 'models/1sig/inception_history'\n",
    "\n",
    "epochs = 10\n",
    "\n",
    "# Train\n",
    "history = model.fit_generator(generator=training_generator,\n",
    "                    steps_per_epoch=train_num // batch_size,\n",
    "                    epochs=epochs,\n",
    "                    validation_data=validation_generator,\n",
    "                    validation_steps=validation_num // batch_size,\n",
    "                    callbacks=[keras.callbacks.ModelCheckpoint(model_fn, monitor='loss', verbose=0, save_best_only=True, mode='auto'), \n",
    "                               keras.callbacks.ReduceLROnPlateau(monitor='loss', factor=0.5, patience=5, min_lr=0.0001), \n",
    "                               keras.callbacks.EarlyStopping(monitor='loss', patience=10,verbose=0, mode='auto')])\n",
    "\n",
    "model.save_weights(model_fn)\n",
    "with open(history_fn, 'wb') as f:\n",
    "    pickle.dump(history.history, f)\n",
    "\n",
    "%matplotlib inline\n",
    "import matplotlib.pyplot as plt\n",
    "# \"Loss\"\n",
    "plt.plot(loss = history.history['loss'])\n",
    "plt.plot(history.history['val_loss'])\n",
    "plt.title('model loss')\n",
    "plt.ylabel('loss')\n",
    "plt.xlabel('epoch')\n",
    "plt.legend(['train', 'validation'])\n",
    "plt.show()"
   ]
  },
  {
   "cell_type": "code",
   "execution_count": 27,
   "metadata": {},
   "outputs": [
    {
     "data": {
      "text/plain": [
       "[1]"
      ]
     },
     "execution_count": 27,
     "metadata": {},
     "output_type": "execute_result"
    }
   ],
   "source": [
    "list(range(1,2))"
   ]
  },
  {
   "cell_type": "code",
   "execution_count": null,
   "metadata": {},
   "outputs": [],
   "source": []
  }
 ],
 "metadata": {
  "kernelspec": {
   "display_name": "Python 3",
   "language": "python",
   "name": "python3"
  },
  "language_info": {
   "codemirror_mode": {
    "name": "ipython",
    "version": 3
   },
   "file_extension": ".py",
   "mimetype": "text/x-python",
   "name": "python",
   "nbconvert_exporter": "python",
   "pygments_lexer": "ipython3",
   "version": "3.6.8"
  }
 },
 "nbformat": 4,
 "nbformat_minor": 2
}
